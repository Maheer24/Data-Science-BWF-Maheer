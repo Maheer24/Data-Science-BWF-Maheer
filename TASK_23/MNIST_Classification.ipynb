{
  "nbformat": 4,
  "nbformat_minor": 0,
  "metadata": {
    "colab": {
      "provenance": []
    },
    "kernelspec": {
      "name": "python3",
      "display_name": "Python 3"
    },
    "language_info": {
      "name": "python"
    }
  },
  "cells": [
    {
      "cell_type": "markdown",
      "source": [
        "The MNIST dataset is widely used in the image recognition field. It consists of 70000 grayscale images of handwritten digits from 0 to 9, and each image measures 28x28 pixels.\n",
        "\n"
      ],
      "metadata": {
        "id": "RAGQb7cbMBk1"
      }
    },
    {
      "cell_type": "markdown",
      "source": [
        "## **Import necesssary libraries**"
      ],
      "metadata": {
        "id": "ZLkHwgXcLsZV"
      }
    },
    {
      "cell_type": "code",
      "execution_count": 50,
      "metadata": {
        "id": "3hfN4_cKzZSI"
      },
      "outputs": [],
      "source": [
        "from keras.datasets import mnist\n",
        "from keras.utils import to_categorical\n",
        "import matplotlib.pyplot as plt\n",
        "import numpy as np\n",
        "import random\n",
        "\n",
        "from keras import models\n",
        "from keras import layers\n",
        "from tensorflow.keras.optimizers import SGD\n",
        "from tensorflow.keras.models import Sequential\n",
        "from tensorflow.keras.layers import Conv2D\n",
        "from tensorflow.keras.layers import MaxPooling2D\n",
        "from tensorflow.keras.layers import Dense\n",
        "from tensorflow.keras.layers import Flatten\n",
        "from tensorflow.keras.layers import BatchNormalization"
      ]
    },
    {
      "cell_type": "code",
      "source": [
        "(train_images, train_labels), (test_images, test_labels) = mnist.load_data()"
      ],
      "metadata": {
        "id": "geZdJvlHzjWJ"
      },
      "execution_count": 31,
      "outputs": []
    },
    {
      "cell_type": "code",
      "source": [
        "print(\"training data\")\n",
        "print(f\"- X = {train_images.shape}, y = {train_labels.shape}\")\n",
        "print(f\"{train_images.shape[0]/70000 * 100:.2f}% of the overall data\")\n",
        "print(\"\\n\")\n",
        "print(\"Testing data\")\n",
        "print(f\"- X = {test_images.shape}, y = {test_labels.shape}\")\n",
        "print(f\"{test_images.shape[0]/70000 * 100:.2f}% of the overall data\")"
      ],
      "metadata": {
        "colab": {
          "base_uri": "https://localhost:8080/"
        },
        "id": "vIjcH0Uyz1pN",
        "outputId": "6a303c6a-8af5-462a-dc80-403d76acc466"
      },
      "execution_count": 32,
      "outputs": [
        {
          "output_type": "stream",
          "name": "stdout",
          "text": [
            "training data\n",
            "- X = (60000, 28, 28), y = (60000,)\n",
            "85.71% of the overall data\n",
            "\n",
            "\n",
            "Testing data\n",
            "- X = (10000, 28, 28), y = (10000,)\n",
            "14.29% of the overall data\n"
          ]
        }
      ]
    },
    {
      "cell_type": "markdown",
      "source": [
        "\n",
        "*   The training dataset has 60000 images and corresponds to 85.71% of the\n",
        "    original dataset.\n",
        "*   The testing dataset, on the other hand, has the remaining 10000 images,\n",
        "    hence 14.29% of the original dataset.\n",
        "\n"
      ],
      "metadata": {
        "id": "cxX_kNbN1nm1"
      }
    },
    {
      "cell_type": "markdown",
      "source": [
        "## **Exploratory data analysis**"
      ],
      "metadata": {
        "id": "2witPPTMMGOM"
      }
    },
    {
      "cell_type": "code",
      "source": [
        "def plot_images(num_of_images, train_data):\n",
        "  random_indices = random.sample(range(len(train_data)), num_of_images)\n",
        "\n",
        "  for i, idx in enumerate(random_indices):\n",
        "    #plt.subplot(nrow, ncol, index)\n",
        "    #print(i)\n",
        "    plt.subplot(3, 3, i+1)\n",
        "    plt.imshow(train_data[idx], cmap=plt.get_cmap('gray'))\n",
        "  plt.show()"
      ],
      "metadata": {
        "id": "0O1HoMuQ1ia0"
      },
      "execution_count": 33,
      "outputs": []
    },
    {
      "cell_type": "code",
      "source": [
        "#range(len(train_images))\n",
        "#len(train_images)"
      ],
      "metadata": {
        "id": "G4gHlKqx1w_k"
      },
      "execution_count": 60,
      "outputs": []
    },
    {
      "cell_type": "code",
      "source": [
        "num_of_images_to_plot = 9\n",
        "plot_images(num_of_images_to_plot, train_images)"
      ],
      "metadata": {
        "colab": {
          "base_uri": "https://localhost:8080/",
          "height": 433
        },
        "id": "92-x3raa2sgp",
        "outputId": "cdc649d9-aeec-4acf-d790-89e1fe9289c1"
      },
      "execution_count": 35,
      "outputs": [
        {
          "output_type": "display_data",
          "data": {
            "text/plain": [
              "<Figure size 640x480 with 9 Axes>"
            ],
            "image/png": "[encoded data removed]"
          },
          "metadata": {}
        }
      ]
    },
    {
      "cell_type": "markdown",
      "source": [
        "Now we will visualize the distribution of the labels from the training dataset using the plot_labels_distribution helper function.\n",
        "\n",
        "- In the X-axis, we have all the possible digits\n",
        "- In the Y-axis, we have the total number of such digits"
      ],
      "metadata": {
        "id": "9KHKGkXD6EL7"
      }
    },
    {
      "cell_type": "code",
      "source": [
        "def plot_labels_distribution(data_labels):\n",
        "  # np.bincount Counts the number of occurrences of each value in array of non-negative ints\n",
        "  counts = np.bincount(data_labels)\n",
        "  plt.style.use('seaborn-dark-palette')\n",
        "\n",
        "  fig, ax = plt.subplots(figsize=(10,5))\n",
        "  ax.bar(range(10), counts)\n",
        "  ax.set(xticks = range(10),xlim = [-1,10], title = 'Training data distribution')\n",
        "  plt.show()"
      ],
      "metadata": {
        "id": "IySWElsf6N6-"
      },
      "execution_count": 36,
      "outputs": []
    },
    {
      "cell_type": "code",
      "source": [
        "plot_labels_distribution(train_labels)"
      ],
      "metadata": {
        "colab": {
          "base_uri": "https://localhost:8080/",
          "height": 523
        },
        "id": "2b_EOKgN9Ljk",
        "outputId": "fb5f419a-2612-483b-ac98-d9619480ca16"
      },
      "execution_count": 37,
      "outputs": [
        {
          "output_type": "stream",
          "name": "stderr",
          "text": [
            "<ipython-input-36-8ee96eabbf91>:4: MatplotlibDeprecationWarning: The seaborn styles shipped by Matplotlib are deprecated since 3.6, as they no longer correspond to the styles shipped by seaborn. However, they will remain available as 'seaborn-v0_8-<style>'. Alternatively, directly use the seaborn API instead.\n",
            "  plt.style.use('seaborn-dark-palette')\n"
          ]
        },
        {
          "output_type": "display_data",
          "data": {
            "text/plain": [
              "<Figure size 1000x500 with 1 Axes>"
            ],
            "image/png": "[encoded data removed]"
          },
          "metadata": {}
        }
      ]
    },
    {
      "cell_type": "markdown",
      "source": [
        "All ten digits are almost evenly distributed across the entire dataset, which means that no further action is required to balance the distribution of the labels."
      ],
      "metadata": {
        "id": "9Tl1s8Zj-zsY"
      }
    },
    {
      "cell_type": "markdown",
      "source": [
        "## **Data preprocessing**\n",
        "The following three main preprocessing tasks will be applied to both training and testing images:\n",
        "\n",
        "- **Image normalization:**\n",
        "This consists of converting all the pixel values from 0-255 to 0-1. This is relevant for a faster convergence during the training process\n",
        "\n",
        "- **Reshaping images:**\n",
        "Instead of having a squared matrix of 28 by 28 for each image, we flatten each one into 784-element vectors in order to make it suitable for the neural network inputs.\n",
        "\n",
        "- **Label encoding:**\n",
        "Convert the labels to one-hot encoded vectors. This will avoid the issues we might have with the numerical hierarchy. This way, the model will be biased towards larger digits."
      ],
      "metadata": {
        "id": "q6OV_ICk_P3M"
      }
    },
    {
      "cell_type": "code",
      "source": [
        "# images = train_images.reshape((train_images.shape[0], 28*28)).astype('float32')\n",
        "# print(images.shape)"
      ],
      "metadata": {
        "id": "eOsrmwfeFnln"
      },
      "execution_count": 61,
      "outputs": []
    },
    {
      "cell_type": "code",
      "source": [
        "# normalized_images = images / 255\n",
        "# print(normalized_images)"
      ],
      "metadata": {
        "id": "jmfndCt_F7BA"
      },
      "execution_count": 62,
      "outputs": []
    },
    {
      "cell_type": "code",
      "source": [
        "#print(normalized_images[0])"
      ],
      "metadata": {
        "id": "0PleJZM0KeCB"
      },
      "execution_count": 48,
      "outputs": []
    },
    {
      "cell_type": "code",
      "source": [
        "def preprocess_data(data, label, vector_size, grayscale_size):\n",
        "  # Normalize to range 0-1\n",
        "  flattened_images = data.reshape((data.shape[0], vector_size)).astype('float32')\n",
        "  normalized_images = flattened_images / grayscale_size\n",
        "\n",
        "  # One-hot encode the labels\n",
        "  encoded_labels = to_categorical(label)\n",
        "\n",
        "  return normalized_images, encoded_labels"
      ],
      "metadata": {
        "id": "DYj9PJRX9Mxl"
      },
      "execution_count": 42,
      "outputs": []
    },
    {
      "cell_type": "code",
      "source": [
        "vector_size = 28*28\n",
        "grayscale_size = 255\n",
        "\n",
        "# Preprocessing of the training data\n",
        "train_images, train_labels = preprocess_data(train_images,\n",
        "                                             train_labels,\n",
        "                                             vector_size,\n",
        "                                             grayscale_size)\n",
        "\n",
        "# Preprocessing of the training data\n",
        "test_images, test_labels = preprocess_data(test_images,\n",
        "                                           test_labels,\n",
        "                                           vector_size,\n",
        "                                           grayscale_size)"
      ],
      "metadata": {
        "id": "v6z5gRBZKq2H"
      },
      "execution_count": 43,
      "outputs": []
    },
    {
      "cell_type": "markdown",
      "source": [
        "Now, we'll observe the current maximum and minimum pixel values of both datasets:"
      ],
      "metadata": {
        "id": "AuZzRE5RLkNW"
      }
    },
    {
      "cell_type": "code",
      "source": [
        "print(\"Training Data\")\n",
        "print(f\"- Maximum value {train_images.max()}\")\n",
        "print(f\"- Minimum value {train_images.min()}\")\n",
        "\n",
        "print(\"\\n\")\n",
        "\n",
        "print(\"Testing Data\")\n",
        "print(f\"- Maximum value {test_images.max()}\")\n",
        "print(f\"- Minimum value {test_images.min()}\")"
      ],
      "metadata": {
        "colab": {
          "base_uri": "https://localhost:8080/"
        },
        "id": "vnUe6Db_Ld_O",
        "outputId": "b8b642c2-3582-4ced-84bc-7ccd9336dc5a"
      },
      "execution_count": 44,
      "outputs": [
        {
          "output_type": "stream",
          "name": "stdout",
          "text": [
            "Training Data\n",
            "- Maximum value 1.0\n",
            "- Minimum value 0.0\n",
            "\n",
            "\n",
            "Testing Data\n",
            "- Maximum value 1.0\n",
            "- Minimum value 0.0\n"
          ]
        }
      ]
    },
    {
      "cell_type": "code",
      "source": [
        "# One hot encoding of the train and test data labels\n",
        "\n",
        "print(\"Training Data Labels\")\n",
        "print(train_labels)\n",
        "\n",
        "print(\"\\n\")\n",
        "\n",
        "print(\"Testing Data Labels\")\n",
        "print(test_labels)"
      ],
      "metadata": {
        "colab": {
          "base_uri": "https://localhost:8080/"
        },
        "id": "6LFzcsHzL__0",
        "outputId": "920db7ac-1c41-428c-c36d-a3ba35d5cc0b"
      },
      "execution_count": 45,
      "outputs": [
        {
          "output_type": "stream",
          "name": "stdout",
          "text": [
            "Training Data Labels\n",
            "[[0. 0. 0. ... 0. 0. 0.]\n",
            " [1. 0. 0. ... 0. 0. 0.]\n",
            " [0. 0. 0. ... 0. 0. 0.]\n",
            " ...\n",
            " [0. 0. 0. ... 0. 0. 0.]\n",
            " [0. 0. 0. ... 0. 0. 0.]\n",
            " [0. 0. 0. ... 0. 1. 0.]]\n",
            "\n",
            "\n",
            "Testing Data Labels\n",
            "[[0. 0. 0. ... 1. 0. 0.]\n",
            " [0. 0. 1. ... 0. 0. 0.]\n",
            " [0. 1. 0. ... 0. 0. 0.]\n",
            " ...\n",
            " [0. 0. 0. ... 0. 0. 0.]\n",
            " [0. 0. 0. ... 0. 0. 0.]\n",
            " [0. 0. 0. ... 0. 0. 0.]]\n"
          ]
        }
      ]
    },
    {
      "cell_type": "markdown",
      "source": [
        "## **Structure of the network**"
      ],
      "metadata": {
        "id": "-N2-nBboLGfd"
      }
    },
    {
      "cell_type": "code",
      "source": [
        "hidden_units = 256\n",
        "num_unique_labels = 10\n",
        "vector_size = 784 # The image was 28x28\n",
        "\n",
        "def define_network_architecture():\n",
        "  network = models.Sequential()\n",
        "\n",
        "  # First hidden layer\n",
        "  network.add(Dense(hidden_units, activation='relu', input_shape=(vector_size,)))\n",
        "\n",
        "  # Second hidden layer\n",
        "  network.add(Dense(512, activation='relu'))\n",
        "\n",
        "  # output layer\n",
        "  network.add(Dense(num_unique_labels, activation='softmax'))\n",
        "\n",
        "  return network"
      ],
      "metadata": {
        "id": "zzn_iOJdMZTj"
      },
      "execution_count": 52,
      "outputs": []
    },
    {
      "cell_type": "markdown",
      "source": [
        "The above architecture consists of three main layers:\n",
        "\n",
        "- Input layer of 784 units corresponding to a 28x28 input image\n",
        "- Hidden layer of 512 units with the ReLU activation\n",
        "- Output layer with 10 units, which correspond to the number of unique labels with softmax activation function"
      ],
      "metadata": {
        "id": "_2o_DSXTAz3U"
      }
    },
    {
      "cell_type": "code",
      "source": [
        "network = define_network_architecture()"
      ],
      "metadata": {
        "colab": {
          "base_uri": "https://localhost:8080/"
        },
        "id": "kFCTDwv9A38i",
        "outputId": "dd51f5fa-dfed-4f70-f5c1-1e81e11b1720"
      },
      "execution_count": 53,
      "outputs": [
        {
          "output_type": "stream",
          "name": "stderr",
          "text": [
            "/usr/local/lib/python3.10/dist-packages/keras/src/layers/core/dense.py:87: UserWarning: Do not pass an `input_shape`/`input_dim` argument to a layer. When using Sequential models, prefer using an `Input(shape)` object as the first layer in the model instead.\n",
            "  super().__init__(activity_regularizer=activity_regularizer, **kwargs)\n"
          ]
        }
      ]
    },
    {
      "cell_type": "markdown",
      "source": [
        "## **Compilation of the network**"
      ],
      "metadata": {
        "id": "smaGsPPtCcyA"
      }
    },
    {
      "cell_type": "code",
      "source": [
        "network.compile(optimizer='rmsprop',\n",
        "                loss='categorical_crossentropy',\n",
        "                metrics=['accuracy'])"
      ],
      "metadata": {
        "id": "pJPOjrypB-M_"
      },
      "execution_count": 54,
      "outputs": []
    },
    {
      "cell_type": "markdown",
      "source": [
        "## **Training of the network**"
      ],
      "metadata": {
        "id": "ik_AL2l_Cntt"
      }
    },
    {
      "cell_type": "code",
      "source": [
        "# Fit the model\n",
        "batch_size = 256\n",
        "n_epochs = 15\n",
        "val_split = 0.2\n",
        "patience_value = 5\n",
        "\n",
        "# Fit the model with the callback\n",
        "history = network.fit(train_images,\n",
        "                      train_labels,\n",
        "                      validation_split=val_split ,\n",
        "                      batch_size=batch_size,\n",
        "                      epochs=n_epochs)"
      ],
      "metadata": {
        "colab": {
          "base_uri": "https://localhost:8080/"
        },
        "id": "O3eaU-bKCaTx",
        "outputId": "05f05951-98db-4ec7-b5d5-e9d1bc52c463"
      },
      "execution_count": 56,
      "outputs": [
        {
          "output_type": "stream",
          "name": "stdout",
          "text": [
            "Epoch 1/15\n",
            "\u001b[1m188/188\u001b[0m \u001b[32m━━━━━━━━━━━━━━━━━━━━\u001b[0m\u001b[37m\u001b[0m \u001b[1m4s\u001b[0m 17ms/step - accuracy: 0.8178 - loss: 0.6179 - val_accuracy: 0.9467 - val_loss: 0.1788\n",
            "Epoch 2/15\n",
            "\u001b[1m188/188\u001b[0m \u001b[32m━━━━━━━━━━━━━━━━━━━━\u001b[0m\u001b[37m\u001b[0m \u001b[1m3s\u001b[0m 16ms/step - accuracy: 0.9540 - loss: 0.1480 - val_accuracy: 0.9691 - val_loss: 0.1065\n",
            "Epoch 3/15\n",
            "\u001b[1m188/188\u001b[0m \u001b[32m━━━━━━━━━━━━━━━━━━━━\u001b[0m\u001b[37m\u001b[0m \u001b[1m3s\u001b[0m 16ms/step - accuracy: 0.9724 - loss: 0.0896 - val_accuracy: 0.9628 - val_loss: 0.1161\n",
            "Epoch 4/15\n",
            "\u001b[1m188/188\u001b[0m \u001b[32m━━━━━━━━━━━━━━━━━━━━\u001b[0m\u001b[37m\u001b[0m \u001b[1m4s\u001b[0m 23ms/step - accuracy: 0.9819 - loss: 0.0625 - val_accuracy: 0.9719 - val_loss: 0.0911\n",
            "Epoch 5/15\n",
            "\u001b[1m188/188\u001b[0m \u001b[32m━━━━━━━━━━━━━━━━━━━━\u001b[0m\u001b[37m\u001b[0m \u001b[1m3s\u001b[0m 15ms/step - accuracy: 0.9857 - loss: 0.0457 - val_accuracy: 0.9722 - val_loss: 0.0985\n",
            "Epoch 6/15\n",
            "\u001b[1m188/188\u001b[0m \u001b[32m━━━━━━━━━━━━━━━━━━━━\u001b[0m\u001b[37m\u001b[0m \u001b[1m3s\u001b[0m 15ms/step - accuracy: 0.9893 - loss: 0.0340 - val_accuracy: 0.9754 - val_loss: 0.0916\n",
            "Epoch 7/15\n",
            "\u001b[1m188/188\u001b[0m \u001b[32m━━━━━━━━━━━━━━━━━━━━\u001b[0m\u001b[37m\u001b[0m \u001b[1m6s\u001b[0m 20ms/step - accuracy: 0.9933 - loss: 0.0246 - val_accuracy: 0.9676 - val_loss: 0.1236\n",
            "Epoch 8/15\n",
            "\u001b[1m188/188\u001b[0m \u001b[32m━━━━━━━━━━━━━━━━━━━━\u001b[0m\u001b[37m\u001b[0m \u001b[1m5s\u001b[0m 18ms/step - accuracy: 0.9949 - loss: 0.0179 - val_accuracy: 0.9741 - val_loss: 0.0976\n",
            "Epoch 9/15\n",
            "\u001b[1m188/188\u001b[0m \u001b[32m━━━━━━━━━━━━━━━━━━━━\u001b[0m\u001b[37m\u001b[0m \u001b[1m3s\u001b[0m 15ms/step - accuracy: 0.9949 - loss: 0.0167 - val_accuracy: 0.9793 - val_loss: 0.0811\n",
            "Epoch 10/15\n",
            "\u001b[1m188/188\u001b[0m \u001b[32m━━━━━━━━━━━━━━━━━━━━\u001b[0m\u001b[37m\u001b[0m \u001b[1m3s\u001b[0m 15ms/step - accuracy: 0.9967 - loss: 0.0108 - val_accuracy: 0.9766 - val_loss: 0.0938\n",
            "Epoch 11/15\n",
            "\u001b[1m188/188\u001b[0m \u001b[32m━━━━━━━━━━━━━━━━━━━━\u001b[0m\u001b[37m\u001b[0m \u001b[1m5s\u001b[0m 15ms/step - accuracy: 0.9974 - loss: 0.0089 - val_accuracy: 0.9761 - val_loss: 0.1002\n",
            "Epoch 12/15\n",
            "\u001b[1m188/188\u001b[0m \u001b[32m━━━━━━━━━━━━━━━━━━━━\u001b[0m\u001b[37m\u001b[0m \u001b[1m3s\u001b[0m 15ms/step - accuracy: 0.9983 - loss: 0.0062 - val_accuracy: 0.9786 - val_loss: 0.0975\n",
            "Epoch 13/15\n",
            "\u001b[1m188/188\u001b[0m \u001b[32m━━━━━━━━━━━━━━━━━━━━\u001b[0m\u001b[37m\u001b[0m \u001b[1m3s\u001b[0m 15ms/step - accuracy: 0.9986 - loss: 0.0051 - val_accuracy: 0.9805 - val_loss: 0.0892\n",
            "Epoch 14/15\n",
            "\u001b[1m188/188\u001b[0m \u001b[32m━━━━━━━━━━━━━━━━━━━━\u001b[0m\u001b[37m\u001b[0m \u001b[1m6s\u001b[0m 19ms/step - accuracy: 0.9992 - loss: 0.0030 - val_accuracy: 0.9787 - val_loss: 0.0997\n",
            "Epoch 15/15\n",
            "\u001b[1m188/188\u001b[0m \u001b[32m━━━━━━━━━━━━━━━━━━━━\u001b[0m\u001b[37m\u001b[0m \u001b[1m3s\u001b[0m 15ms/step - accuracy: 0.9991 - loss: 0.0027 - val_accuracy: 0.9772 - val_loss: 0.1138\n"
          ]
        }
      ]
    },
    {
      "cell_type": "markdown",
      "source": [
        "The model is trained for **15** epochs using a batch size of **256**, and **20%** of the training data is used for validation of the model.\n",
        "\n",
        "After training the model, the training and validation performance history is plotted below.\n",
        "\n",
        "\n"
      ],
      "metadata": {
        "id": "xGq8MSx7EOSJ"
      }
    },
    {
      "cell_type": "code",
      "source": [
        "plt.plot(history.history['accuracy'])\n",
        "plt.plot(history.history['val_accuracy'])\n",
        "plt.title('Model Accuracy')\n",
        "plt.ylabel('Accuracy')\n",
        "plt.xlabel('Epoch')\n",
        "plt.legend(['Train','Validation'], loc = 'upper left')\n",
        "plt.show()"
      ],
      "metadata": {
        "colab": {
          "base_uri": "https://localhost:8080/",
          "height": 472
        },
        "id": "Oc1sbEvEIguU",
        "outputId": "dd544b63-e183-4001-8f73-149dbcf8b875"
      },
      "execution_count": 57,
      "outputs": [
        {
          "output_type": "display_data",
          "data": {
            "text/plain": [
              "<Figure size 640x480 with 1 Axes>"
            ],
            "image/png": "[encoded data removed]"
          },
          "metadata": {}
        }
      ]
    },
    {
      "cell_type": "markdown",
      "source": [
        "## **Evaluation on test data**"
      ],
      "metadata": {
        "id": "zB33yNXMJp2P"
      }
    },
    {
      "cell_type": "code",
      "source": [
        "loss, acc = network.evaluate(test_images,\n",
        "                             test_labels,\n",
        "                             batch_size=batch_size)\n",
        "\n",
        "print(f\"Test accuracy: {100 * acc:.2f}\")"
      ],
      "metadata": {
        "colab": {
          "base_uri": "https://localhost:8080/"
        },
        "id": "eQlvkN3eJqvM",
        "outputId": "1bce720e-9277-4388-9c4b-4da5358caaec"
      },
      "execution_count": 59,
      "outputs": [
        {
          "output_type": "stream",
          "name": "stdout",
          "text": [
            "\u001b[1m40/40\u001b[0m \u001b[32m━━━━━━━━━━━━━━━━━━━━\u001b[0m\u001b[37m\u001b[0m \u001b[1m0s\u001b[0m 6ms/step - accuracy: 0.9774 - loss: 0.1103\n",
            "Test accuracy: 98.10\n"
          ]
        }
      ]
    },
    {
      "cell_type": "markdown",
      "source": [
        "The graph indicates that the model has learned to predict outcomes with high accuracy, achieving around 98% on both validation and test data sets."
      ],
      "metadata": {
        "id": "GE7oAAXsEODK"
      }
    }
  ]
}