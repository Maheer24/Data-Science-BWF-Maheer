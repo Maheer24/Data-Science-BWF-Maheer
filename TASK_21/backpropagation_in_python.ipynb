{
  "nbformat": 4,
  "nbformat_minor": 0,
  "metadata": {
    "colab": {
      "provenance": []
    },
    "kernelspec": {
      "name": "python3",
      "display_name": "Python 3"
    },
    "language_info": {
      "name": "python"
    }
  },
  "cells": [
    {
      "cell_type": "code",
      "execution_count": null,
      "metadata": {
        "id": "3bTBZ-Du-ibC"
      },
      "outputs": [],
      "source": [
        "import numpy as np"
      ]
    },
    {
      "cell_type": "code",
      "source": [
        "class NeuralNetwork:\n",
        "  # input_size = Number of input features\n",
        "  # hidden_size = number of neuron in hidden layer\n",
        "  # output_size = number of neuron in output layer\n",
        "  def __init__(self, input_size, hidden_size, output_size):\n",
        "    self.input_size = input_size\n",
        "    self.hidden_size = hidden_size\n",
        "    self.output_size = output_size\n",
        "\n",
        "    # Initialize weights\n",
        "    # np.random.randn generates random numbers from a standard normal distribution\n",
        "    self.weights_input_hidden = np.random.randn(self.input_size, self.hidden_size)\n",
        "    self.weights_hidden_output = np.random.randn(self.hidden_size, self.output_size)\n",
        "\n",
        "    # Initialize the biases\n",
        "    self.bias_hidden = np.zeros((1, self.hidden_size))\n",
        "    self.bias_output = np.zeros((1, self.output_size))\n",
        "\n",
        "  def sigmoid(self, x):\n",
        "    return 1 / (1 + np.exp(-x))\n",
        "\n",
        "  def sigmoid_derivative(self, x):\n",
        "    return x * (1 - x)\n",
        "\n",
        "  def feed_forward(self, X):\n",
        "    # Input layer to hidden layer\n",
        "    self.hidden_activation = np.dot(X, self.weights_input_hidden) + self.bias_hidden\n",
        "    self.hidden_output = self.sigmoid(self.hidden_activation)\n",
        "\n",
        "    # Hidden layer to output layer\n",
        "    self.output_activation = np.dot(self.hidden_output, self.weights_hidden_output) + self.bias_output\n",
        "    self.predicted_output = self.sigmoid(self.output_activation)\n",
        "\n",
        "    return self.predicted_output\n",
        "\n",
        "  def back_propagation(self, X, y, learning_rate):\n",
        "    output_error = y - self.predicted_output\n",
        "    output_delta = output_error * self.sigmoid_derivative(self.predicted_output)\n",
        "\n",
        "    hidden_error = np.dot(output_delta, self.weights_hidden_output.T)\n",
        "    # hidden_delta indicates how much the hidden layer’s output contributed to the output error.\n",
        "    hidden_delta = hidden_error * self.sigmoid_derivative(self.hidden_output)\n",
        "\n",
        "    # update weights and biases\n",
        "    self.weights_hidden_output += learning_rate * np.dot(self.hidden_output.T, output_delta)\n",
        "    self.bias_output += learning_rate * np.sum(output_delta, axis=0, keepdims=True)\n",
        "\n",
        "    self.weights_input_hidden += learning_rate * np.dot(X.T, hidden_delta)\n",
        "    self.bias_hidden += learning_rate * np.sum(hidden_delta, axis=0, keepdims=True)\n",
        "\n",
        "  def train_network(self, X, y, epochs, learning_rate):\n",
        "    for epoch in range(epochs):\n",
        "      output = self.feed_forward(X)\n",
        "    self.back_propagation(X, y, learning_rate)\n",
        "    if epoch % 4000 == 0:\n",
        "      loss = np.mean(np.square(y - output))\n",
        "      print(f\"Epoch: {epoch}, Loss: {loss}\")"
      ],
      "metadata": {
        "id": "FQkksWh--tvQ"
      },
      "execution_count": null,
      "outputs": []
    },
    {
      "cell_type": "code",
      "source": [
        "X = np.array([[0, 0], [0, 1], [1, 0], [1, 1]])\n",
        "y = np.array([[0], [1], [1], [0]])"
      ],
      "metadata": {
        "id": "DrtkiBqRS_3Q"
      },
      "execution_count": null,
      "outputs": []
    },
    {
      "cell_type": "code",
      "source": [
        "nn = NeuralNetwork(input_size=2, hidden_size=4, output_size=1)\n",
        "nn.train_network(X, y, epochs=10000, learning_rate=0.1)\n",
        "\n",
        "# Test the trained model\n",
        "output = nn.feed_forward(X)\n",
        "print(\"Predictions after training: \")\n",
        "print(output)"
      ],
      "metadata": {
        "colab": {
          "base_uri": "https://localhost:8080/"
        },
        "id": "t8Om6eKDTfue",
        "outputId": "825d56f0-a772-47fd-96be-c094d67af17c"
      },
      "execution_count": null,
      "outputs": [
        {
          "output_type": "stream",
          "name": "stdout",
          "text": [
            "Predictions after training: \n",
            "[[0.29673854]\n",
            " [0.31986019]\n",
            " [0.34953992]\n",
            " [0.36480139]]\n"
          ]
        }
      ]
    },
    {
      "cell_type": "code",
      "source": [],
      "metadata": {
        "id": "Ct89MHIqVCgl"
      },
      "execution_count": null,
      "outputs": []
    }
  ]
}