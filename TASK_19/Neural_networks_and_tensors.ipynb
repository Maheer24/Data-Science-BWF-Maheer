{
 "cells": [
  {
   "cell_type": "markdown",
   "id": "ea634229-837b-4fe1-ab88-7d320054be4a",
   "metadata": {},
   "source": [
    "# Tensors"
   ]
  },
  {
   "cell_type": "markdown",
   "id": "612e3ad0-fa54-42bc-86cc-fb3dbc2c2d07",
   "metadata": {},
   "source": [
    "A tensor is a generalization of vectors and matrices and is easily understood as a multidimensional array.\n",
    "\n",
    "A vector is a one-dimensional or first order tensor and a matrix is a two-dimensional or second order tensor."
   ]
  },
  {
   "cell_type": "code",
   "execution_count": 12,
   "id": "95bba325-cb2b-41cd-82d2-6c7e1c168b5f",
   "metadata": {},
   "outputs": [],
   "source": [
    "from numpy import array, tensordot"
   ]
  },
  {
   "cell_type": "code",
   "execution_count": 5,
   "id": "87c2844f-7423-4c67-be25-2d71909b3f59",
   "metadata": {},
   "outputs": [],
   "source": [
    "T = array([\n",
    "    [[1,2,3],    [4,5,6],    [7,8,9]],\n",
    "    [[11,12,13], [14,15,16], [17,18,19]],\n",
    "    [[21,22,23], [24,25,26], [27,28,29]],\n",
    "])"
   ]
  },
  {
   "cell_type": "code",
   "execution_count": 6,
   "id": "640ca128-d21c-4086-90e2-b8edbc9c098f",
   "metadata": {},
   "outputs": [
    {
     "name": "stdout",
     "output_type": "stream",
     "text": [
      "(3, 3, 3)\n"
     ]
    }
   ],
   "source": [
    "print(T.shape)"
   ]
  },
  {
   "cell_type": "markdown",
   "id": "a10f51c1-fca0-4a27-9b71-83e4546607d0",
   "metadata": {},
   "source": [
    "## 1. Tensor Addition"
   ]
  },
  {
   "cell_type": "code",
   "execution_count": 7,
   "id": "7bad45cd-fb6d-4b22-812a-a96c82c472a3",
   "metadata": {},
   "outputs": [
    {
     "name": "stdout",
     "output_type": "stream",
     "text": [
      "[[[ 2  4  6]\n",
      "  [ 8 10 12]\n",
      "  [14 16 18]]\n",
      "\n",
      " [[22 24 26]\n",
      "  [28 30 32]\n",
      "  [34 36 38]]\n",
      "\n",
      " [[42 44 46]\n",
      "  [48 50 52]\n",
      "  [54 56 58]]]\n"
     ]
    }
   ],
   "source": [
    "A = array([\n",
    "  [[1,2,3],    [4,5,6],    [7,8,9]],\n",
    "  [[11,12,13], [14,15,16], [17,18,19]],\n",
    "  [[21,22,23], [24,25,26], [27,28,29]],\n",
    "  ])\n",
    "B = array([\n",
    "  [[1,2,3],    [4,5,6],    [7,8,9]],\n",
    "  [[11,12,13], [14,15,16], [17,18,19]],\n",
    "  [[21,22,23], [24,25,26], [27,28,29]],\n",
    "  ])\n",
    "C = A + B\n",
    "print(C)"
   ]
  },
  {
   "cell_type": "markdown",
   "id": "2d845a44-3b27-4d2d-bdaf-f93d56cf5973",
   "metadata": {},
   "source": [
    "## 2. Tensor Subtraction"
   ]
  },
  {
   "cell_type": "code",
   "execution_count": 9,
   "id": "0b610608-1e73-4d48-a913-f2ae289749f6",
   "metadata": {},
   "outputs": [
    {
     "name": "stdout",
     "output_type": "stream",
     "text": [
      "[[[0 0 0]\n",
      "  [0 0 0]\n",
      "  [0 0 0]]\n",
      "\n",
      " [[0 0 0]\n",
      "  [0 0 0]\n",
      "  [0 0 0]]\n",
      "\n",
      " [[0 0 0]\n",
      "  [0 0 0]\n",
      "  [0 0 0]]]\n"
     ]
    }
   ],
   "source": [
    "A = array([\n",
    "  [[1,2,3],    [4,5,6],    [7,8,9]],\n",
    "  [[11,12,13], [14,15,16], [17,18,19]],\n",
    "  [[21,22,23], [24,25,26], [27,28,29]],\n",
    "  ])\n",
    "B = array([\n",
    "  [[1,2,3],    [4,5,6],    [7,8,9]],\n",
    "  [[11,12,13], [14,15,16], [17,18,19]],\n",
    "  [[21,22,23], [24,25,26], [27,28,29]],\n",
    "  ])\n",
    "\n",
    "C = A - B\n",
    "print(C)"
   ]
  },
  {
   "cell_type": "markdown",
   "id": "46d26ba0-83b9-4641-b6b9-386f29b8436b",
   "metadata": {},
   "source": [
    "## 3. Tensor Hadamard Product"
   ]
  },
  {
   "cell_type": "code",
   "execution_count": 10,
   "id": "7d2020bf-4a3d-4527-823a-89c9b977c2bb",
   "metadata": {},
   "outputs": [
    {
     "name": "stdout",
     "output_type": "stream",
     "text": [
      "[[[  1   4   9]\n",
      "  [ 16  25  36]\n",
      "  [ 49  64  81]]\n",
      "\n",
      " [[121 144 169]\n",
      "  [196 225 256]\n",
      "  [289 324 361]]\n",
      "\n",
      " [[441 484 529]\n",
      "  [576 625 676]\n",
      "  [729 784 841]]]\n"
     ]
    }
   ],
   "source": [
    "A = array([\n",
    "  [[1,2,3],    [4,5,6],    [7,8,9]],\n",
    "  [[11,12,13], [14,15,16], [17,18,19]],\n",
    "  [[21,22,23], [24,25,26], [27,28,29]],\n",
    "  ])\n",
    "B = array([\n",
    "  [[1,2,3],    [4,5,6],    [7,8,9]],\n",
    "  [[11,12,13], [14,15,16], [17,18,19]],\n",
    "  [[21,22,23], [24,25,26], [27,28,29]],\n",
    "  ])\n",
    "C = A * B\n",
    "print(C)"
   ]
  },
  {
   "cell_type": "markdown",
   "id": "8cedd329-5fe7-405e-b83e-b5c3c0ca586d",
   "metadata": {},
   "source": [
    "## 4. Tensor Division"
   ]
  },
  {
   "cell_type": "code",
   "execution_count": 11,
   "id": "ed4a1db9-f271-4622-8641-42deb4e9522f",
   "metadata": {},
   "outputs": [
    {
     "name": "stdout",
     "output_type": "stream",
     "text": [
      "[[[1. 1. 1.]\n",
      "  [1. 1. 1.]\n",
      "  [1. 1. 1.]]\n",
      "\n",
      " [[1. 1. 1.]\n",
      "  [1. 1. 1.]\n",
      "  [1. 1. 1.]]\n",
      "\n",
      " [[1. 1. 1.]\n",
      "  [1. 1. 1.]\n",
      "  [1. 1. 1.]]]\n"
     ]
    }
   ],
   "source": [
    "C = A / B\n",
    "print(C)"
   ]
  },
  {
   "cell_type": "markdown",
   "id": "39a716fe-a969-48b5-8ff3-6d1eea915c48",
   "metadata": {},
   "source": [
    "## 5. Tensor Product"
   ]
  },
  {
   "cell_type": "code",
   "execution_count": 13,
   "id": "729074a2-2a06-44e8-bad4-255b93311a6e",
   "metadata": {},
   "outputs": [
    {
     "name": "stdout",
     "output_type": "stream",
     "text": [
      "[[3 4]\n",
      " [6 8]]\n"
     ]
    }
   ],
   "source": [
    "A = array([1,2])\n",
    "B = array([3,4])\n",
    "C = tensordot(A, B, axes=0)\n",
    "print(C)"
   ]
  },
  {
   "cell_type": "markdown",
   "id": "dc980af3-5a58-429b-8e2f-c275a27b3be6",
   "metadata": {},
   "source": [
    "# Neural Networks"
   ]
  },
  {
   "cell_type": "markdown",
   "id": "d838926e-7198-4829-9af0-871b48d3a539",
   "metadata": {},
   "source": [
    "### a. What is a Neural Network?\n",
    "Neural networks are designed to recognize patterns.\n",
    "They are made up of layers of neurons (also called nodes), similar to the neurons in the human brain.\n",
    "\n",
    "### b. Basic Structure of a Neural Network\n",
    "\n",
    "**Input Layer:**\n",
    "This is where the data enters the network.\n",
    "Each neuron in this layer represents a feature of the data (e.g., pixel value in an image, or a word in a sentence).\n",
    "\n",
    "**Hidden Layers:**\n",
    "These layers are where the actual computation happens.\n",
    "Neurons in hidden layers receive input from the previous layer, process it, and pass it to the next layer.\n",
    "\n",
    "**Output Layer:**\n",
    "This layer produces the final result or prediction.\n",
    "The number of neurons here corresponds to the number of possible outcomes (e.g., types of objects in an image).\n",
    "\n",
    "### c. How Does It Work?\n",
    "\n",
    "**Weights:**\n",
    "Connections between neurons have weights, which determine the importance of each input.\n",
    "Weights are adjusted during training to make accurate predictions.\n",
    "\n",
    "**Bias:**\n",
    "Bias is an extra parameter that helps the model make better predictions by shifting the output of neurons.\n",
    "\n",
    "**Activation Function:**\n",
    "After receiving inputs, each neuron applies an activation function.\n",
    "This function decides if the neuron should be \"activated\" or not, meaning it decides whether to pass the information forward.\n",
    "\n",
    "### d. Training a Neural Network\n",
    "\n",
    "**Forward Propagation:**\n",
    "Data moves from the input layer, through hidden layers, to the output layer.\n",
    "The output is compared with the actual answer to see how close it is.\n",
    "\n",
    "**Loss Function:**\n",
    "This measures how far the network's prediction is from the actual answer.\n",
    "The goal is to minimize this difference.\n",
    "\n",
    "**Backpropagation:**\n",
    "The network learns by adjusting the weights and biases based on the error.\n",
    "This process repeats until the network makes accurate predictions."
   ]
  },
  {
   "cell_type": "code",
   "execution_count": null,
   "id": "d485ed16-fd78-4ae3-855b-352126b69875",
   "metadata": {},
   "outputs": [],
   "source": []
  }
 ],
 "metadata": {
  "kernelspec": {
   "display_name": "Python 3 (ipykernel)",
   "language": "python",
   "name": "python3"
  },
  "language_info": {
   "codemirror_mode": {
    "name": "ipython",
    "version": 3
   },
   "file_extension": ".py",
   "mimetype": "text/x-python",
   "name": "python",
   "nbconvert_exporter": "python",
   "pygments_lexer": "ipython3",
   "version": "3.12.4"
  }
 },
 "nbformat": 4,
 "nbformat_minor": 5
}
