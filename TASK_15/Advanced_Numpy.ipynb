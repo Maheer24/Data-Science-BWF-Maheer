{
 "cells": [
  {
   "cell_type": "markdown",
   "id": "f54db3db-6dd8-44cf-a883-953f60ac8f0f",
   "metadata": {},
   "source": [
    "## Advanced Numpy"
   ]
  },
  {
   "cell_type": "markdown",
   "id": "b2b44153-ac64-4d4a-b55d-e55ed57859b2",
   "metadata": {},
   "source": [
    "import numpy as np"
   ]
  },
  {
   "cell_type": "markdown",
   "id": "5ab96465-bfa8-412c-a445-1648beddce09",
   "metadata": {},
   "source": [
    "### 1. Reshape\n",
    "Reshaping allows you to change the shape of an array without changing its data."
   ]
  },
  {
   "cell_type": "code",
   "execution_count": 4,
   "id": "3d8591a0-bf12-47dd-bbe7-64a9bca707b9",
   "metadata": {},
   "outputs": [
    {
     "name": "stdout",
     "output_type": "stream",
     "text": [
      "[[ 0  1  2  3]\n",
      " [ 4  5  6  7]\n",
      " [ 8  9 10 11]]\n"
     ]
    }
   ],
   "source": [
    "# Create a 1D array\n",
    "arr = np.arange(12)\n",
    "\n",
    "# Reshape to 2D array (3x4)\n",
    "# arr.reshape(3, 4) changes the shape of the array to 3 rows and 4 columns.\n",
    "reshaped_arr = arr.reshape(3, 4)\n",
    "print(reshaped_arr)"
   ]
  },
  {
   "cell_type": "markdown",
   "id": "4c3649da-dfe6-456c-9026-573e82be11bd",
   "metadata": {},
   "source": [
    "### 2. Concatenate\n",
    "Concatenation joins two or more arrays along an existing axis."
   ]
  },
  {
   "cell_type": "code",
   "execution_count": 6,
   "id": "b80cf00b-047f-484d-8159-d6951ac8231f",
   "metadata": {},
   "outputs": [
    {
     "name": "stdout",
     "output_type": "stream",
     "text": [
      "[[1 2]\n",
      " [3 4]\n",
      " [5 6]\n",
      " [7 8]]\n",
      "[[1 2 5 6]\n",
      " [3 4 7 8]]\n"
     ]
    }
   ],
   "source": [
    "# Create two 2D arrays\n",
    "arr1 = np.array([[1, 2], [3, 4]])\n",
    "arr2 = np.array([[5, 6], [7, 8]])\n",
    "\n",
    "# Concatenate along rows (axis=0)\n",
    "concat_arr = np.concatenate((arr1, arr2), axis=0)\n",
    "print(concat_arr)\n",
    "\n",
    "# Concatenate along columns (axis=1)\n",
    "concat_arr_col = np.concatenate((arr1, arr2), axis=1)\n",
    "print(concat_arr_col)"
   ]
  },
  {
   "cell_type": "markdown",
   "id": "31c47ce9-5bc9-42b4-93d6-f5f7fbe99f39",
   "metadata": {},
   "source": [
    "Explanation:\n",
    "\n",
    "- axis=0 concatenates arrays along rows.\n",
    "- axis=1 concatenates arrays along columns."
   ]
  },
  {
   "cell_type": "markdown",
   "id": "d9ae16fe-e85b-445d-8458-c4cca740f271",
   "metadata": {},
   "source": [
    "### 3. Splitting\n",
    "Splitting divides an array into multiple sub-arrays."
   ]
  },
  {
   "cell_type": "code",
   "execution_count": 7,
   "id": "444ad42b-9b11-460f-8adb-54b2ee19136e",
   "metadata": {},
   "outputs": [
    {
     "name": "stdout",
     "output_type": "stream",
     "text": [
      "[array([0, 1, 2]), array([3, 4, 5]), array([6, 7, 8])]\n"
     ]
    }
   ],
   "source": [
    "# Create a 1D array\n",
    "arr = np.arange(9)\n",
    "\n",
    "# Split into 3 equal parts\n",
    "split_arr = np.array_split(arr, 3)\n",
    "print(split_arr)"
   ]
  },
  {
   "cell_type": "markdown",
   "id": "ac100a35-d9a3-43b4-8d77-beb19d49b450",
   "metadata": {},
   "source": [
    "### 4. Horizontal Split (hsplit)\n",
    "hsplit splits an array horizontally (column-wise)."
   ]
  },
  {
   "cell_type": "code",
   "execution_count": 8,
   "id": "3ac4c386-16be-4c3b-bd79-11149d42e61f",
   "metadata": {},
   "outputs": [
    {
     "name": "stdout",
     "output_type": "stream",
     "text": [
      "[array([[1, 2],\n",
      "       [5, 6]]), array([[3, 4],\n",
      "       [7, 8]])]\n"
     ]
    }
   ],
   "source": [
    "# Create a 2D array\n",
    "arr = np.array([[1, 2, 3, 4], [5, 6, 7, 8]])\n",
    "\n",
    "# Horizontal split into 2 equal parts\n",
    "h_split_arr = np.hsplit(arr, 2)\n",
    "print(h_split_arr)"
   ]
  },
  {
   "cell_type": "markdown",
   "id": "4a8b8ba4-fbb9-4be2-b31f-ecb5d2e97340",
   "metadata": {},
   "source": [
    "### 5. Vertical Split (vsplit)\n",
    "vsplit splits an array vertically (row-wise)."
   ]
  },
  {
   "cell_type": "code",
   "execution_count": 9,
   "id": "1b417c46-be3c-4d9d-8870-edcd60c639b1",
   "metadata": {},
   "outputs": [
    {
     "name": "stdout",
     "output_type": "stream",
     "text": [
      "[array([[1, 2, 3, 4]]), array([[5, 6, 7, 8]])]\n"
     ]
    }
   ],
   "source": [
    "# Create a 2D array\n",
    "arr = np.array([[1, 2, 3, 4], [5, 6, 7, 8]])\n",
    "\n",
    "# Vertical split into 2 equal parts\n",
    "v_split_arr = np.vsplit(arr, 2)\n",
    "print(v_split_arr)"
   ]
  },
  {
   "cell_type": "markdown",
   "id": "9f2ef057-031d-46ec-ae4f-0025d71a3e40",
   "metadata": {},
   "source": [
    "### 6. Stacking\n",
    "Stacking joins arrays along a new axis."
   ]
  },
  {
   "cell_type": "code",
   "execution_count": 10,
   "id": "2b3e4dd0-4622-4620-8d61-04ccb466b8ed",
   "metadata": {},
   "outputs": [
    {
     "name": "stdout",
     "output_type": "stream",
     "text": [
      "[[1 2 3]\n",
      " [4 5 6]]\n",
      "[[1 4]\n",
      " [2 5]\n",
      " [3 6]]\n"
     ]
    }
   ],
   "source": [
    "# Create two 1D arrays\n",
    "arr1 = np.array([1, 2, 3])\n",
    "arr2 = np.array([4, 5, 6])\n",
    "\n",
    "# Stack along rows\n",
    "stacked_arr = np.stack((arr1, arr2), axis=0)\n",
    "print(stacked_arr)\n",
    "\n",
    "# Stack along columns\n",
    "stacked_arr_col = np.stack((arr1, arr2), axis=1)\n",
    "print(stacked_arr_col)"
   ]
  },
  {
   "cell_type": "markdown",
   "id": "bdde2e3a-8a3e-4a52-abae-4aad92bb6935",
   "metadata": {},
   "source": [
    "Explanation:\n",
    "\n",
    "- np.stack((arr1, arr2), axis=0) stacks arrays along a new row axis.\n",
    "- np.stack((arr1, arr2), axis=1) stacks arrays along a new column axis."
   ]
  },
  {
   "cell_type": "markdown",
   "id": "a1691aab-29cd-4869-b908-8ebe9df678ff",
   "metadata": {},
   "source": [
    "### 7. Transpose\n",
    "Transpose switches the axes of an array."
   ]
  },
  {
   "cell_type": "code",
   "execution_count": 11,
   "id": "8f94475e-a930-44d6-98bf-ee6c3950ffae",
   "metadata": {},
   "outputs": [
    {
     "name": "stdout",
     "output_type": "stream",
     "text": [
      "[[1 4]\n",
      " [2 5]\n",
      " [3 6]]\n"
     ]
    }
   ],
   "source": [
    "# Create a 2D array\n",
    "arr = np.array([[1, 2, 3], [4, 5, 6]])\n",
    "\n",
    "# Transpose the array\n",
    "transposed_arr = arr.T\n",
    "print(transposed_arr)"
   ]
  },
  {
   "cell_type": "markdown",
   "id": "696107d0-85f4-4ea0-ac42-45b458f5ce6c",
   "metadata": {},
   "source": [
    "Explanation:\n",
    "\n",
    "- arr.T swaps the rows and columns.arr)\r\n"
   ]
  },
  {
   "cell_type": "markdown",
   "id": "24f7b0c8-f8b2-4085-a2a2-b2f7e0fd6054",
   "metadata": {},
   "source": [
    "### 8. Broadcasting\n",
    "Broadcasting allows arithmetic operations on arrays of different shapes."
   ]
  },
  {
   "cell_type": "code",
   "execution_count": 12,
   "id": "f6bcba53-f116-4173-b842-2575e6cc4885",
   "metadata": {},
   "outputs": [
    {
     "name": "stdout",
     "output_type": "stream",
     "text": [
      "[[2 4 6]\n",
      " [5 7 9]]\n"
     ]
    }
   ],
   "source": [
    "# Create two arrays of different shapes\n",
    "arr1 = np.array([[1, 2, 3], [4, 5, 6]])\n",
    "arr2 = np.array([1, 2, 3])\n",
    "\n",
    "# Add arrays using broadcasting\n",
    "result = arr1 + arr2\n",
    "print(result)"
   ]
  },
  {
   "cell_type": "markdown",
   "id": "c9ba8e4d-f9eb-42c6-bc5e-2172536d7a4c",
   "metadata": {},
   "source": [
    "Explanation:\n",
    "\n",
    "- The smaller array arr2 is broadcasted across arr1, adding element-wise."
   ]
  },
  {
   "cell_type": "markdown",
   "id": "51ab540e-05a4-4152-8c65-1cee160d7200",
   "metadata": {},
   "source": [
    "### 9. Element-wise Operations\n",
    "Perform operations on elements of arrays."
   ]
  },
  {
   "cell_type": "code",
   "execution_count": 13,
   "id": "b87d84e4-1bc6-41ee-bc87-90b053823685",
   "metadata": {},
   "outputs": [
    {
     "name": "stdout",
     "output_type": "stream",
     "text": [
      "[[11 12 13]\n",
      " [14 15 16]]\n",
      "[[ 1  4  9]\n",
      " [16 25 36]]\n"
     ]
    }
   ],
   "source": [
    "# Create a 2D array\n",
    "arr = np.array([[1, 2, 3], [4, 5, 6]])\n",
    "\n",
    "# Add 10 to each element\n",
    "added_arr = arr + 10\n",
    "print(added_arr)\n",
    "\n",
    "# Square each element\n",
    "squared_arr = arr ** 2\n",
    "print(squared_arr)"
   ]
  },
  {
   "cell_type": "markdown",
   "id": "49cdf542-d6f0-47db-a2d2-0c3743478d5a",
   "metadata": {},
   "source": [
    "### 10. Advanced Indexing\n",
    "Select elements using advanced indexing techniques."
   ]
  },
  {
   "cell_type": "code",
   "execution_count": 14,
   "id": "3b3bf0be-030b-460b-a777-c14041eac818",
   "metadata": {},
   "outputs": [
    {
     "name": "stdout",
     "output_type": "stream",
     "text": [
      "[2 6 7]\n"
     ]
    }
   ],
   "source": [
    "# Create a 2D array\n",
    "arr = np.array([[1, 2, 3], [4, 5, 6], [7, 8, 9]])\n",
    "\n",
    "# Select elements at (0,1), (1,2), and (2,0)\n",
    "selected_elements = arr[[0, 1, 2], [1, 2, 0]]\n",
    "print(selected_elements)"
   ]
  }
 ],
 "metadata": {
  "kernelspec": {
   "display_name": "Python 3 (ipykernel)",
   "language": "python",
   "name": "python3"
  },
  "language_info": {
   "codemirror_mode": {
    "name": "ipython",
    "version": 3
   },
   "file_extension": ".py",
   "mimetype": "text/x-python",
   "name": "python",
   "nbconvert_exporter": "python",
   "pygments_lexer": "ipython3",
   "version": "3.12.4"
  }
 },
 "nbformat": 4,
 "nbformat_minor": 5
}
