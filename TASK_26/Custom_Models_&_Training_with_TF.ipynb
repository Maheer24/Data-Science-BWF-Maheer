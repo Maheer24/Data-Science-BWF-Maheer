{
 "cells": [
  {
   "cell_type": "code",
   "execution_count": 2,
   "id": "313afb6d-ec2f-4641-8d4a-e763a2e52e8c",
   "metadata": {},
   "outputs": [],
   "source": [
    "import tensorflow as tf"
   ]
  },
  {
   "cell_type": "markdown",
   "id": "c333cd8d-7093-46f6-aac7-5a5e121a9ce4",
   "metadata": {},
   "source": [
    "## **Custom Models and Training with TensorFlow**"
   ]
  },
  {
   "cell_type": "code",
   "execution_count": 3,
   "id": "d422b0ae-e4e7-4d54-be46-801f38f93a09",
   "metadata": {},
   "outputs": [],
   "source": [
    "# Define a custom model by subclassing tf.keras.Model\n",
    "class CustomModel(tf.keras.Model):\n",
    "    def __init__(self):\n",
    "        super(CustomModel, self).__init__()\n",
    "        self.dense1 = tf.keras.layers.Dense(64, activation='relu')\n",
    "        self.dense2 = tf.keras.layers.Dense(10)  # Output layer for classification\n",
    "\n",
    "    def call(self, inputs):\n",
    "        x = self.dense1(inputs)\n",
    "        return self.dense2(x)\n",
    "\n",
    "# Instantiate the model\n",
    "model = CustomModel()\n",
    "\n",
    "# Define a custom training loop\n",
    "def train_step(model, inputs, targets, loss_fn, optimizer):\n",
    "    with tf.GradientTape() as tape:\n",
    "        # Forward pass\n",
    "        predictions = model(inputs)\n",
    "        # Compute loss\n",
    "        loss = loss_fn(targets, predictions)\n",
    "    # Compute gradients\n",
    "    gradients = tape.gradient(loss, model.trainable_variables)\n",
    "    # Update weights\n",
    "    optimizer.apply_gradients(zip(gradients, model.trainable_variables))\n",
    "    return loss"
   ]
  },
  {
   "cell_type": "code",
   "execution_count": null,
   "id": "062d4714-b56e-41fa-8dd4-f52e7f3b16f2",
   "metadata": {},
   "outputs": [],
   "source": [
    "# Sample data\n",
    "inputs = tf.random.normal([32, 100])  # Batch of 32 samples, each of 100 features\n",
    "targets = tf.random.uniform([32], maxval=10, dtype=tf.int32)  # Batch of 32 target labels\n",
    "\n",
    "# Define loss function and optimizer\n",
    "loss_fn = tf.keras.losses.SparseCategoricalCrossentropy(from_logits=True)\n",
    "optimizer = tf.keras.optimizers.Adam()\n",
    "\n",
    "# Training step\n",
    "loss = train_step(model, inputs, targets, loss_fn, optimizer)\n",
    "print(f\"Loss: {loss.numpy()}\")"
   ]
  }
 ],
 "metadata": {
  "kernelspec": {
   "display_name": "Python 3 (ipykernel)",
   "language": "python",
   "name": "python3"
  },
  "language_info": {
   "codemirror_mode": {
    "name": "ipython",
    "version": 3
   },
   "file_extension": ".py",
   "mimetype": "text/x-python",
   "name": "python",
   "nbconvert_exporter": "python",
   "pygments_lexer": "ipython3",
   "version": "3.12.4"
  }
 },
 "nbformat": 4,
 "nbformat_minor": 5
}
